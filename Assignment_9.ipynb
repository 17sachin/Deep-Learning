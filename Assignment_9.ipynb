{
  "nbformat": 4,
  "nbformat_minor": 0,
  "metadata": {
    "colab": {
      "name": "Assignment_9.ipynb",
      "provenance": [],
      "collapsed_sections": [],
      "authorship_tag": "ABX9TyPhgu4O8HOr4j0HeM5j8ONB",
      "include_colab_link": true
    },
    "kernelspec": {
      "name": "python3",
      "display_name": "Python 3"
    },
    "language_info": {
      "name": "python"
    }
  },
  "cells": [
    {
      "cell_type": "markdown",
      "metadata": {
        "id": "view-in-github",
        "colab_type": "text"
      },
      "source": [
        "<a href=\"https://colab.research.google.com/github/17sachin/Deep-Learning/blob/main/Assignment_9.ipynb\" target=\"_parent\"><img src=\"https://colab.research.google.com/assets/colab-badge.svg\" alt=\"Open In Colab\"/></a>"
      ]
    },
    {
      "cell_type": "markdown",
      "source": [
        "1.What are the main tasks that autoencoders are used for?\n",
        "\n",
        "An autoencoder is an unsupervised learning technique for neural networks that learns efficient data representations (encoding) by training the network to ignore signal “noise.” Autoencoders can be used for image denoising, image compression, and, in some cases, even generation of image data.\n",
        "\n"
      ],
      "metadata": {
        "id": "EvUaYAUN1GyW"
      }
    },
    {
      "cell_type": "markdown",
      "source": [
        "2.Suppose you want to train a classifier, and you have plenty of unlabeled training data but only a few thousand labeled instances. How can autoencoders help? How would you proceed?\n",
        "\n"
      ],
      "metadata": {
        "id": "4mU9HT0Y1PJp"
      }
    },
    {
      "cell_type": "markdown",
      "source": [
        "3.If an autoencoder perfectly reconstructs the inputs, is it necessarily a good autoencoder?How can you evaluate the performance of an autoencoder?\n",
        "\n",
        "Autoencoder can improve learning accuracy with regularization, which can be a sparsity regularizer, either a contractive regularizer [5], or a denoising form of regularization [6]. Recent work [7] has shown that regularization can be used to prevent feature co-adaptation by dropout training.\n",
        "\n",
        "This can be achieved by creating constraints on the copying task. One way to obtain useful features from the autoencoder is to constrain h to have smaller dimensions than x, in this case the autoencoder is called undercomplete."
      ],
      "metadata": {
        "id": "PdkJPeru1vzu"
      }
    },
    {
      "cell_type": "markdown",
      "source": [
        "4.What are undercomplete and overcomplete autoencoders? What is the main risk of an excessively undercomplete autoencoder? What about the main risk of an overcomplete autoencoder?\n",
        "\n",
        "Under complete Autoencoder is a type of Autoencoder. Its goal is to capture the important features present in the data. It has a small hidden layer hen compared to Input Layer. ... An autoencoder whose code dimension is less than the input dimension is called undercomplete.\n",
        "\n",
        "An autoencoder is a special type of neural network that takes the same values on the input and the output layers. ... Depending on the number of neurons in the hidden layers, there are two types of autoencoders: undercomplete, overcomplete\n"
      ],
      "metadata": {
        "id": "Rs39_-Bx16xl"
      }
    },
    {
      "cell_type": "markdown",
      "source": [
        "5.How do you tie weights in a stacked autoencoder? What is the point of doing so?\n",
        "\n",
        "An autoencoder with tied weights has decoder weights that are the transpose of the encoder weights; this is a form of parameter sharing, which reduces the number of parameters of the model. It is therefore a common practice to tie weights when building a symmetrical autoencoder."
      ],
      "metadata": {
        "id": "oxBvZHuQ2K_4"
      }
    },
    {
      "cell_type": "markdown",
      "source": [
        "6.What is a generative model? Can you name a type of generative autoencoder?\n",
        "\n",
        "A generative model includes the distribution of the data itself, and tells you how likely a given example is. For example, models that predict the next word in a sequence are typically generative models (usually much simpler than GANs) because they can assign a probability to a sequence of words.\n",
        "\n",
        "There are, basically, 7 types of autoencoders:\n",
        "\n",
        "Denoising autoencoder\n",
        "Sparse Autoencoder\n",
        "Deep Autoencoder\n",
        "Contractive Autoencoder\n",
        "Undercomplete Autoencoder\n",
        "Convolutional Autoencoder\n",
        "Variational Autoencode"
      ],
      "metadata": {
        "id": "k7wo7Z682ayP"
      }
    },
    {
      "cell_type": "markdown",
      "source": [
        "7.What is a GAN? Can you name a few tasks where GANs can shine?\n",
        "\n",
        "A generative adversarial network (GAN) is a machine learning (ML) model in which two neural networks compete with each other to become more accurate in their predictions. GANs typically run unsupervised and use a cooperative zero-sum game framework to learn\n",
        "\n",
        "Impressive Applications of Generative Adversarial Networks (GANs)\n",
        "Generate Examples for Image Datasets.\n",
        "Generate Photographs of Human Faces.\n",
        "Generate Realistic Photographs.\n",
        "Generate Cartoon Characters.\n",
        "Image-to-Image Translation.\n",
        "Text-to-Image Translation.\n",
        "Semantic-Image-to-Photo Translation.\n",
        "Face Frontal View Generation"
      ],
      "metadata": {
        "id": "jlnsRj6H2qZu"
      }
    },
    {
      "cell_type": "markdown",
      "source": [
        "8.What are the main difficulties when training GANs?\n",
        "\n",
        "GAN models can suffer badly in the following areas comparing to other deep networks. Non-convergence: the models do not converge and worse they become unstable. Slow training: the gradient to train the generator vanished."
      ],
      "metadata": {
        "id": "EzeBsf9b27D0"
      }
    }
  ]
}