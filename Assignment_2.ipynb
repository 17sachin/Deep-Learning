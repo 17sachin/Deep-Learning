{
  "nbformat": 4,
  "nbformat_minor": 0,
  "metadata": {
    "colab": {
      "name": "Assignment_2.ipynb",
      "provenance": [],
      "collapsed_sections": [],
      "authorship_tag": "ABX9TyMvjG0jHYy6KsK33kSuV6Vb",
      "include_colab_link": true
    },
    "kernelspec": {
      "name": "python3",
      "display_name": "Python 3"
    },
    "language_info": {
      "name": "python"
    }
  },
  "cells": [
    {
      "cell_type": "markdown",
      "metadata": {
        "id": "view-in-github",
        "colab_type": "text"
      },
      "source": [
        "<a href=\"https://colab.research.google.com/github/17sachin/Deep-Learning/blob/main/Assignment_2.ipynb\" target=\"_parent\"><img src=\"https://colab.research.google.com/assets/colab-badge.svg\" alt=\"Open In Colab\"/></a>"
      ]
    },
    {
      "cell_type": "markdown",
      "source": [
        "1.Describe the structure of an artificial neuron. How is it similar to a biological neuron? What are its main components?\n",
        "\n",
        "An artificial neuron is a connection point in an artificial neural network. Artificial neural networks, like the human body's biological neural network, have a layered architecture and each network node (connection point) has the capability to process input and forward output to other nodes in the network.\n",
        "\n",
        "The most obvious similarity between a neural network and the brain is the presence of neurons as the most basic unit of the nervous system. On the other hand, in an artificial neural network, the input is directly passed to a neuron and output is also directly taken from the neuron, both in the same manner.\n",
        "\n",
        "Components of ANNs\n",
        "Neurons.\n",
        "Connections and weights.\n",
        "Propagation function.\n",
        "Learning rate.\n",
        "Cost function.\n",
        "Backpropagation.\n",
        "Supervised learning.\n",
        "Unsupervised learning"
      ],
      "metadata": {
        "id": "jgQkK4KbbZdq"
      }
    },
    {
      "cell_type": "markdown",
      "source": [
        "2.What are the different types of activation functions popularly used? Explain each of them.\n",
        "\n",
        "Types of Activation Functions\n",
        "Sigmoid Function. In an ANN, the sigmoid function is a non-linear AF used primarily in feedforward neural networks.\n",
        "Hyperbolic Tangent Function (Tanh)\n",
        "Softmax Function.\n",
        "Softsign Function.\n",
        "Rectified Linear Unit (ReLU) Function.\n",
        "Exponential Linear Units (ELUs) Function."
      ],
      "metadata": {
        "id": "5pJuq6S9b56b"
      }
    },
    {
      "cell_type": "markdown",
      "source": [
        "3.Explain, in details, Rosenblatt’s perceptron model. How can a set of data be classified using a simple perceptron?\n",
        "\n",
        "Rosenblatt perceptron is a binary single neuron model. The inputs integration is implemented through the addition of the weighted inputs that have fixed weights obtained during the training stage. If the result of this addition is larger than a given threshold θ the neuron fires.\n",
        "\n",
        "The Perceptron algorithm is a two-class (binary) classification machine learning algorithm. It is a type of neural network model, perhaps the simplest type of neural network model. It consists of a single node or neuron that takes a row of data as input and predicts a class label.\n",
        "\n"
      ],
      "metadata": {
        "id": "p_M59XancI-M"
      }
    },
    {
      "cell_type": "markdown",
      "source": [
        "4.What is artificial neural network (ANN)? Explain some of the salient highlights in the different architectural options for ANN.\n",
        "\n",
        "An Artificial Neural Network (ANN) is an information processing paradigm that is inspired by the brain. ANNs, like people, learn by examples. An ANN is configured for a specific application, such as pattern recognition or data classification, through a learning process.\n"
      ],
      "metadata": {
        "id": "0eNR7UH_cZXL"
      }
    },
    {
      "cell_type": "markdown",
      "source": [
        "5.Explain, in details, the backpropagation algorithm. What are the limitations of this algorithm?\n",
        "\n",
        "Input layer receives x.\n",
        "Input is modeled using weights w.\n",
        "Each hidden layer calculates the output and data is ready at the output layer.\n",
        "Difference between actual output and desired output is known as the error.\n",
        "\n",
        "Limitations:\n",
        "\n",
        "The actual performance of backpropagation on a specific problem is dependent on the input data.\n",
        "Back propagation algorithm in data mining can be quite sensitive to noisy data.\n",
        "You need to use the matrix-based approach for backpropagation instead of mini-batch."
      ],
      "metadata": {
        "id": "GDLIOY0octcy"
      }
    },
    {
      "cell_type": "markdown",
      "source": [
        "6.Describe, in details, the process of adjusting the interconnection weights in a multi-layer neural network.\n",
        "\n",
        "A single data instance makes a forward pass through the neural network, and the weights are updated immediately, after which a forward pass is made with the next data instance.\n",
        "\n",
        "Multilayer networks solve the classification problem for non linear sets by employing hidden layers, whose neurons are not directly connected to the output. The additional hidden layers can be interpreted geometrically as additional hyper-planes, which enhance the separation capacity of the network."
      ],
      "metadata": {
        "id": "iTjJytyydAU5"
      }
    },
    {
      "cell_type": "markdown",
      "source": [
        ""
      ],
      "metadata": {
        "id": "BlVWaMmLeHvT"
      }
    },
    {
      "cell_type": "markdown",
      "source": [
        "7.What are the steps in the backpropagation algorithm? Why a multi-layer neural network is required?\n",
        "\n",
        "Step – 1: Forward Propagation.\n",
        "Step – 2: Backward Propagation.\n",
        "Step – 3: Putting all the values together and calculating the updated weight value\n",
        "\n",
        "Multilayer networks solve the classification problem for non linear sets by employing hidden layers, whose neurons are not directly connected to the output. The additional hidden layers can be interpreted geometrically as additional hyper-planes, which enhance the separation capacity of the network.\n",
        "\n",
        "\n"
      ],
      "metadata": {
        "id": "iatDP9_HdQQR"
      }
    },
    {
      "cell_type": "markdown",
      "source": [
        "8.Write short notes on:\n",
        "\n",
        "1.Artificial neuron:\n",
        "An artificial neuron is a connection point in an artificial neural network. Artificial neural networks, like the human body's biological neural network, have a layered architecture and each network node (connection point) has the capability to process input and forward output to other nodes in the network\n",
        "\n",
        "2.Multi-layer perceptron:\n",
        "A multilayer perceptron (MLP) is a class of feedforward artificial neural network (ANN)An MLP consists of at least three layers of nodes: an input layer, a hidden layer and an output layer. Except for the input nodes, each node is a neuron that uses a nonlinear activation function\n",
        "\n",
        "3.Deep learning:\n",
        "Deep learning is a type of machine learning and artificial intelligence (AI) that imitates the way humans gain certain types of knowledge. ... It is extremely beneficial to data scientists who are tasked with collecting, analyzing and interpreting large amounts of data; deep learning makes this process faster and easier.\n",
        "\n",
        "4.Learning rate:\n",
        "\n",
        "In machine learning and statistics, the learning rate is a tuning parameter in an optimization algorithm that determines the step size at each iteration while moving toward a minimum of a loss function\n",
        "\n",
        "Write the difference between:-\n",
        "\n",
        "1.Activation function vs threshold function:\n",
        "The threshold could be considered to be the point where the sigmoid function is 0.5. Some sigmoid functions will have this at 0, while some will have it set to a different 'threshold'. The step function may be thought of as a version of the sigmoid function that has the steepness set to infinity.\n",
        "\n",
        "2.Step function vs sigmoid function:Binary Step Function. Binary step function is a threshold-based activation function which means after a certain threshold neuron is activated and below the said threshold neuron is deactivated. In the above graph, the threshold is zero.\n",
        "\n",
        "3.Single layer vs multi-layer perceptron:\n",
        "A multilayer perceptron (MLP) is a feedforward artificial neural network that generates a set of outputs from a set of inputs. ... MLP is a deep learning method. A multilayer perceptron is a neural network connecting multiple layers in a directed graph, which means that the signal path through the nodes only goes one way.\n"
      ],
      "metadata": {
        "id": "Q3_L4_zZdhUA"
      }
    }
  ]
}