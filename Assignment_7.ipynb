{
  "nbformat": 4,
  "nbformat_minor": 0,
  "metadata": {
    "colab": {
      "name": "Assignment_7.ipynb",
      "provenance": [],
      "collapsed_sections": [],
      "authorship_tag": "ABX9TyOc8AIGow5f35s8e82A6MI1",
      "include_colab_link": true
    },
    "kernelspec": {
      "name": "python3",
      "display_name": "Python 3"
    },
    "language_info": {
      "name": "python"
    }
  },
  "cells": [
    {
      "cell_type": "markdown",
      "metadata": {
        "id": "view-in-github",
        "colab_type": "text"
      },
      "source": [
        "<a href=\"https://colab.research.google.com/github/17sachin/Deep-Learning/blob/main/Assignment_7.ipynb\" target=\"_parent\"><img src=\"https://colab.research.google.com/assets/colab-badge.svg\" alt=\"Open In Colab\"/></a>"
      ]
    },
    {
      "cell_type": "markdown",
      "source": [
        "1.Can you think of a few applications for a sequence-to-sequence RNN? What about a sequence-to-vector RNN, and a vector-to-sequence RNN?\n",
        "\n",
        "In Sequence to Sequence Learning, RNN is trained to map an input sequence to an output sequence which is not necessarily of the same length. Applications are speech recognition, machine translation, image captioning and question answering.\n",
        "\n",
        "Sometimes both the input and output are sequences, in some either the input or the output is a sequence. Recurrent neural network (RNN) is a popular sequence model that has shown efficient performance for sequential data"
      ],
      "metadata": {
        "id": "zNFBCbO_wO__"
      }
    },
    {
      "cell_type": "markdown",
      "source": [
        "2.How many dimensions must the inputs of an RNN layer have? What does each dimension represent? What about its outputs?\n",
        "\n",
        "RNN input needs to have 3 dimensions. Typically it would be batch size, the number of steps and number of features.\n",
        "\n",
        "The RNN unit in TensorFlow is called the “RNN cell”. This name itself has created a lot of confusion among people. There are many questions on Stackoverflow that inquire if “RNN cell” refers to one single cell or the whole layer. Well, it’s more like the whole layer. The reason for this is that the connections in RNNs are recurrent, thus following a “feeding to itself” approach.\n",
        "\n"
      ],
      "metadata": {
        "id": "4FZZ4in_wZa_"
      }
    },
    {
      "cell_type": "markdown",
      "source": [
        "3.If you want to build a deep sequence-to-sequence RNN, which RNN layers should\n",
        "have return_sequences=True? What about a sequence-to-vector RNN?\n",
        "\n",
        "Sometimes both the input and output are sequences, in some either the input or the output is a sequence. Recurrent neural network (RNN) is a popular sequence model that has shown efficient performance for sequential data.\n",
        "\n",
        "A variable-length context vector can be used instead of a ﬁxed-size vector. An Attention mechanism can be used to produces a sequence of vectors from the encoder RNN from each time step of the input sequence. The Decoder learns to pay selective attention to the vectors to produce the output at each time step"
      ],
      "metadata": {
        "id": "M_NIJhqzwx01"
      }
    },
    {
      "cell_type": "markdown",
      "source": [
        "4.Suppose you have a daily univariate time series, and you want to forecast the next seven days. Which RNN architecture should you use?\n",
        "\n",
        "LSTM (Long Short-Term Memory) is a Recurrent Neural Network (RNN) based architecture that is widely used in natural language processing and time series forecasting.\n",
        "\n",
        "RNN is best for all type of sequential data analysis. As in forecasting data changes with time, and as RNN can learn changes in time domain so it could be better solution for prediction.\n",
        "\n"
      ],
      "metadata": {
        "id": "rHr_ozj0xJ7P"
      }
    },
    {
      "cell_type": "markdown",
      "source": [
        "5.What are the main difficulties when training RNNs? How can you handle them?\n",
        "\n",
        "There are two widely known issues with properly training Recurrent Neural Networks, the vanishing and the exploding gradient problems detailed in Bengio et al. (1994).\n",
        "\n",
        "This has led to diverse approaches and architectures including specific training modes such as echo and liquid-state-machines, backpropagation decorrelation, or long short term memory, specific architectures such as recursive and graph networks, and hybrid systems."
      ],
      "metadata": {
        "id": "DRLqRbMqxYmQ"
      }
    },
    {
      "cell_type": "markdown",
      "source": [
        "6.Can you sketch the LSTM cell’s architecture?\n",
        "\n",
        "Long short-term memory (LSTM) is an artificial recurrent neural network (RNN) architecture used in the field of deep learning. ... LSTM networks are well-suited to classifying, processing and making predictions based on time series data, since there can be lags of unknown duration between important events in a time series"
      ],
      "metadata": {
        "id": "DOfLG4c2yVAO"
      }
    },
    {
      "cell_type": "markdown",
      "source": [
        "7.Why would you want to use 1D convolutional layers in an RNN?\n",
        "\n",
        "1D CNN can perform activity recognition task from accelerometer data, such as if the person is standing, walking, jumping etc. This data has 2 dimensions. ... Similarly, 1D CNNs are also used on audio and text data since we can also represent the sound and texts as a time series data."
      ],
      "metadata": {
        "id": "GIUb44wHydi4"
      }
    },
    {
      "cell_type": "markdown",
      "source": [
        "8.Which neural network architecture could you use to classify videos?\n",
        "\n",
        "As the data gets approximated layer by layer, CNN's start recognizing the patterns and thereby recognizing the objects in the images. These objects are used extensively in various applications for identification, classification, etc.\n",
        "\n",
        "The images of a video are fed to a CNN model to extract high-level features. The features are then fed to an RNN layer and the output of the RNN layer is connected to a fully connected layer to get the classification output."
      ],
      "metadata": {
        "id": "RKwPDb8Myouf"
      }
    },
    {
      "cell_type": "markdown",
      "source": [
        "9.Train a classification model for the SketchRNN dataset, available in TensorFlow Datasets."
      ],
      "metadata": {
        "id": "VRjEs095yxbf"
      }
    }
  ]
}